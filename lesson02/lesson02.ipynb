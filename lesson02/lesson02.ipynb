{
 "cells": [
  {
   "cell_type": "markdown",
   "metadata": {},
   "source": [
    "# ДЗ №2\n",
    "\n",
    "\n",
    "**Попробуйте обучить нейронную сеть на Keras с другими параметрами. Поработайте с документацией Keras.**"
   ]
  },
  {
   "cell_type": "code",
   "execution_count": 38,
   "metadata": {
    "ExecuteTime": {
     "end_time": "2020-04-20T07:02:09.105648Z",
     "start_time": "2020-04-20T07:00:10.021151Z"
    }
   },
   "outputs": [
    {
     "name": "stdout",
     "output_type": "stream",
     "text": [
      "Epoch 1/10\n",
      "60000/60000 [==============================] - 12s 200us/step - loss: 0.4985 - accuracy: 0.8637\n",
      "Epoch 2/10\n",
      "60000/60000 [==============================] - 11s 184us/step - loss: 0.1574 - accuracy: 0.9542\n",
      "Epoch 3/10\n",
      "60000/60000 [==============================] - 11s 180us/step - loss: 0.0972 - accuracy: 0.9723\n",
      "Epoch 4/10\n",
      "60000/60000 [==============================] - 11s 190us/step - loss: 0.0693 - accuracy: 0.9802\n",
      "Epoch 5/10\n",
      "60000/60000 [==============================] - 11s 178us/step - loss: 0.0511 - accuracy: 0.9854\n",
      "Epoch 6/10\n",
      "60000/60000 [==============================] - 12s 198us/step - loss: 0.0345 - accuracy: 0.9905\n",
      "Epoch 7/10\n",
      "60000/60000 [==============================] - 12s 199us/step - loss: 0.0263 - accuracy: 0.9930\n",
      "Epoch 8/10\n",
      "60000/60000 [==============================] - 11s 183us/step - loss: 0.0188 - accuracy: 0.9958\n",
      "Epoch 9/10\n",
      "60000/60000 [==============================] - 12s 195us/step - loss: 0.0138 - accuracy: 0.9973\n",
      "Epoch 10/10\n",
      "60000/60000 [==============================] - 12s 199us/step - loss: 0.0107 - accuracy: 0.9982\n",
      "10000/10000 [==============================] - 3s 269us/step\n",
      "\n",
      "Accuracy: 0.9814000129699707\n"
     ]
    }
   ],
   "source": [
    "# The full neural network code!\n",
    "###############################\n",
    "import numpy as np\n",
    "import mnist\n",
    "from keras.models import Sequential\n",
    "from keras.layers import Dense\n",
    "from keras.utils import to_categorical\n",
    "\n",
    "train_images = mnist.train_images()\n",
    "train_labels = mnist.train_labels()\n",
    "test_images = mnist.test_images()\n",
    "test_labels = mnist.test_labels()\n",
    "\n",
    "# Normalize the images.\n",
    "train_images = (train_images / 255) \n",
    "test_images = (test_images / 255) \n",
    "\n",
    "# Flatten the images.\n",
    "train_images = train_images.reshape((-1, 784))\n",
    "test_images = test_images.reshape((-1, 784))\n",
    "\n",
    "# Build the model.\n",
    "model = Sequential([\n",
    "  Dense(2000, activation='relu', input_shape=(784,)),\n",
    "  Dense(512, activation='relu'),\n",
    "  Dense(10, activation='softmax'),\n",
    "])\n",
    "\n",
    "# Compile the model.\n",
    "model.compile(\n",
    "  optimizer='adam',\n",
    "  loss='categorical_crossentropy',\n",
    "  metrics=['accuracy'],\n",
    ")\n",
    "\n",
    "# Train the model.\n",
    "model.fit(\n",
    "  train_images,\n",
    "  to_categorical(train_labels),\n",
    "  epochs=10,\n",
    "  batch_size=2000,\n",
    ")\n",
    "\n",
    "# Evaluate the model.\n",
    "score = model.evaluate(\n",
    "  test_images,\n",
    "  to_categorical(test_labels)\n",
    ")\n",
    "\n",
    "print('\\nAccuracy:', score[1])"
   ]
  },
  {
   "cell_type": "markdown",
   "metadata": {},
   "source": [
    "**Опишите в комментарии к уроку - какой результата вы добились от нейросети? Что помогло вам улучшить ее точность?**"
   ]
  },
  {
   "cell_type": "markdown",
   "metadata": {},
   "source": [
    "* добавление новых слоев дает небольшой прирост но я бы сказал что не существенно\n",
    "* тоже самое можно сказать про количество эпох есть прирост но небольшой\n",
    "* думаю наибольший прирост качества дает увеличение нейронов в слое\n",
    "* еще очень хорошо помогла другая нормализация т.е. приведение данных к значения от 0 до 1 (вместо -0.5 до 0.5)\n",
    "* количество в batch_size логично ведет к ускорению обучения и в целом не сильно ухудшая а где то и улучшая качество\n",
    "\n",
    "Также проверил пример из самого Keras так что думаю можно использовать и то что они предлагают: \n",
    "\n",
    "https://keras.io/examples/mnist_mlp/\n",
    "\n",
    "Test accuracy: 0.9842000007629395"
   ]
  }
 ],
 "metadata": {
  "kernelspec": {
   "display_name": "Python 3",
   "language": "python",
   "name": "python3"
  },
  "language_info": {
   "codemirror_mode": {
    "name": "ipython",
    "version": 3
   },
   "file_extension": ".py",
   "mimetype": "text/x-python",
   "name": "python",
   "nbconvert_exporter": "python",
   "pygments_lexer": "ipython3",
   "version": "3.7.1"
  },
  "toc": {
   "base_numbering": 1,
   "nav_menu": {},
   "number_sections": true,
   "sideBar": true,
   "skip_h1_title": false,
   "title_cell": "Table of Contents",
   "title_sidebar": "Contents",
   "toc_cell": false,
   "toc_position": {},
   "toc_section_display": true,
   "toc_window_display": false
  }
 },
 "nbformat": 4,
 "nbformat_minor": 2
}
