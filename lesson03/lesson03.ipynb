{
 "cells": [
  {
   "cell_type": "markdown",
   "metadata": {
    "colab_type": "text",
    "id": "jYysdyb-CaWM"
   },
   "source": [
    "# ДЗ №3"
   ]
  },
  {
   "cell_type": "code",
   "execution_count": 7,
   "metadata": {
    "ExecuteTime": {
     "end_time": "2020-04-20T07:08:24.721970Z",
     "start_time": "2020-04-20T07:08:24.050419Z"
    },
    "colab": {},
    "colab_type": "code",
    "id": "dzLKpmZICaWN"
   },
   "outputs": [
    {
     "name": "stdout",
     "output_type": "stream",
     "text": [
      "2.1.0\n"
     ]
    }
   ],
   "source": [
    "from __future__ import absolute_import, division, print_function, unicode_literals\n",
    "import tensorflow as tf\n",
    "from tensorflow import keras\n",
    "\n",
    "import numpy as np\n",
    "\n",
    "print(tf.__version__)"
   ]
  },
  {
   "cell_type": "markdown",
   "metadata": {},
   "source": [
    "**1. Попробуйте обучить нейронную сеть на TensorFlow 2 на любом датасете imdb_reviews.\n",
    "        Опишите в комментарии к уроку - какой результата вы добились от нейросети? Что помогло вам улучшить ее точность?**"
   ]
  },
  {
   "cell_type": "code",
   "execution_count": 82,
   "metadata": {
    "ExecuteTime": {
     "end_time": "2020-04-20T09:43:52.054142Z",
     "start_time": "2020-04-20T09:43:52.048533Z"
    }
   },
   "outputs": [],
   "source": [
    "def vectorize(sequences, dimension = 10000):\n",
    "    results = np.zeros((len(sequences), dimension))\n",
    "    for i, sequence in enumerate(sequences):\n",
    "        results[i, sequence] = 1\n",
    "    return results"
   ]
  },
  {
   "cell_type": "code",
   "execution_count": 99,
   "metadata": {
    "ExecuteTime": {
     "end_time": "2020-04-20T09:58:47.833663Z",
     "start_time": "2020-04-20T09:58:34.788059Z"
    }
   },
   "outputs": [],
   "source": [
    "(x_train, y_train), (x_test, y_test) = keras.datasets.imdb.load_data(num_words=10000)\n",
    "\n",
    "x_train = vectorize(x_train)\n",
    "y_train = np.array(y_train).astype(\"float32\")\n",
    "\n",
    "x_test = vectorize(x_test)\n",
    "y_test = np.array(y_test).astype(\"float32\")"
   ]
  },
  {
   "cell_type": "code",
   "execution_count": 135,
   "metadata": {
    "ExecuteTime": {
     "end_time": "2020-04-20T10:27:26.081064Z",
     "start_time": "2020-04-20T10:26:57.605876Z"
    }
   },
   "outputs": [
    {
     "name": "stdout",
     "output_type": "stream",
     "text": [
      "Train on 25000 samples, validate on 25000 samples\n",
      "Epoch 1/3\n",
      "25000/25000 [==============================] - 10s 403us/sample - loss: 0.4760 - accuracy: 0.8020 - val_loss: 0.3221 - val_accuracy: 0.8776\n",
      "Epoch 2/3\n",
      "25000/25000 [==============================] - 9s 374us/sample - loss: 0.2476 - accuracy: 0.9080 - val_loss: 0.2865 - val_accuracy: 0.8858\n",
      "Epoch 3/3\n",
      "25000/25000 [==============================] - 8s 335us/sample - loss: 0.1766 - accuracy: 0.9380 - val_loss: 0.3113 - val_accuracy: 0.8802\n",
      "\n",
      "Test-Accuracy: 0.88118666\n"
     ]
    }
   ],
   "source": [
    "model = keras.Sequential([\n",
    "    keras.layers.Dense(16, activation='relu', input_shape=(10000, )),\n",
    "\n",
    "    keras.layers.Dense(16, activation = \"relu\"),\n",
    "    keras.layers.Dropout(0.1),\n",
    "    keras.layers.Dense(16, activation = \"relu\"),\n",
    "    \n",
    "    keras.layers.Dense(1, activation = \"sigmoid\"),\n",
    "])\n",
    "\n",
    "model.compile(\n",
    " optimizer = \"adam\",\n",
    " loss = \"binary_crossentropy\",\n",
    " metrics = [\"accuracy\"]\n",
    ")\n",
    "\n",
    "results = model.fit(\n",
    " x_train, y_train,\n",
    " epochs= 3,\n",
    " batch_size = 500,\n",
    " validation_data = (x_test, y_test)\n",
    ")\n",
    "\n",
    "print(\"\\nTest-Accuracy:\", np.mean(results.history[\"val_accuracy\"]))"
   ]
  },
  {
   "cell_type": "markdown",
   "metadata": {},
   "source": [
    "> **Для улучшения точности сети помогло добавление слоя исключения Dropout**"
   ]
  }
 ],
 "metadata": {
  "colab": {
   "collapsed_sections": [],
   "name": "classification.ipynb",
   "private_outputs": true,
   "provenance": [],
   "toc_visible": true
  },
  "kernelspec": {
   "display_name": "Python 3",
   "language": "python",
   "name": "python3"
  },
  "language_info": {
   "codemirror_mode": {
    "name": "ipython",
    "version": 3
   },
   "file_extension": ".py",
   "mimetype": "text/x-python",
   "name": "python",
   "nbconvert_exporter": "python",
   "pygments_lexer": "ipython3",
   "version": "3.7.1"
  },
  "toc": {
   "base_numbering": 1,
   "nav_menu": {},
   "number_sections": true,
   "sideBar": true,
   "skip_h1_title": false,
   "title_cell": "Table of Contents",
   "title_sidebar": "Contents",
   "toc_cell": false,
   "toc_position": {},
   "toc_section_display": true,
   "toc_window_display": false
  }
 },
 "nbformat": 4,
 "nbformat_minor": 1
}
